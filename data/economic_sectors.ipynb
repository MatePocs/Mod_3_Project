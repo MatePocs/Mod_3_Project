{
 "cells": [
  {
   "cell_type": "code",
   "execution_count": 1,
   "metadata": {},
   "outputs": [],
   "source": [
    "import requests\n",
    "from bs4 import BeautifulSoup\n",
    "import pandas as pd"
   ]
  },
  {
   "cell_type": "code",
   "execution_count": 2,
   "metadata": {},
   "outputs": [],
   "source": [
    "url = \"https://en.wikipedia.org/wiki/List_of_countries_by_GDP_sector_composition#cite_note-The_World_Factbook_-_GDP_(purchasing_power_parity)-1\""
   ]
  },
  {
   "cell_type": "code",
   "execution_count": 3,
   "metadata": {},
   "outputs": [],
   "source": [
    "website_url = requests.get(url).text\n",
    "soup = BeautifulSoup(website_url,'lxml')\n",
    "table = soup.find(\"table\",{\"class\":\"wikitable sortable\"})\n",
    "# tabletype is different than usual wikitable sortable\n",
    "body = table.find(\"tbody\")\n",
    "rows = body.findChildren(['th', 'tr'])"
   ]
  },
  {
   "cell_type": "code",
   "execution_count": 8,
   "metadata": {},
   "outputs": [],
   "source": [
    "countries = []\n",
    "agricultural_list = []\n",
    "industrial_list = []\n",
    "service_list = []"
   ]
  },
  {
   "cell_type": "code",
   "execution_count": 9,
   "metadata": {},
   "outputs": [],
   "source": [
    "for row in rows:\n",
    "    cells = row.findChildren(['td'])\n",
    "    if len(cells) > 0:\n",
    "        country = cells[0].findAll('a')[0].text\n",
    "        if country != '':\n",
    "            # there is one world row, where the flag is a link but the country is not\n",
    "            countries.append(country)\n",
    "            \n",
    "            agricultural = cells[2].text.split('\\n')[0]\n",
    "            agricultural_list.append(agricultural)\n",
    "            \n",
    "            industrial = cells[3].text.split('\\n')[0]\n",
    "            industrial_list.append(industrial)\n",
    "            \n",
    "            service = cells[4].text.split('\\n')[0]\n",
    "            service_list.append(service)"
   ]
  },
  {
   "cell_type": "code",
   "execution_count": 10,
   "metadata": {},
   "outputs": [],
   "source": [
    "df = pd.DataFrame()\n",
    "df['countries'] = countries\n",
    "df['agricultural'] = agricultural_list\n",
    "df['industrial'] = industrial_list\n",
    "df['service'] = service_list"
   ]
  },
  {
   "cell_type": "code",
   "execution_count": 11,
   "metadata": {},
   "outputs": [
    {
     "data": {
      "text/html": [
       "<div>\n",
       "<style scoped>\n",
       "    .dataframe tbody tr th:only-of-type {\n",
       "        vertical-align: middle;\n",
       "    }\n",
       "\n",
       "    .dataframe tbody tr th {\n",
       "        vertical-align: top;\n",
       "    }\n",
       "\n",
       "    .dataframe thead th {\n",
       "        text-align: right;\n",
       "    }\n",
       "</style>\n",
       "<table border=\"1\" class=\"dataframe\">\n",
       "  <thead>\n",
       "    <tr style=\"text-align: right;\">\n",
       "      <th></th>\n",
       "      <th>countries</th>\n",
       "      <th>agricultural</th>\n",
       "      <th>industrial</th>\n",
       "      <th>service</th>\n",
       "    </tr>\n",
       "  </thead>\n",
       "  <tbody>\n",
       "    <tr>\n",
       "      <td>0</td>\n",
       "      <td>World</td>\n",
       "      <td>6.4%</td>\n",
       "      <td>30.0%</td>\n",
       "      <td>63.0%</td>\n",
       "    </tr>\n",
       "    <tr>\n",
       "      <td>1</td>\n",
       "      <td>China</td>\n",
       "      <td>7.9%</td>\n",
       "      <td>40.5%</td>\n",
       "      <td>51.6%</td>\n",
       "    </tr>\n",
       "    <tr>\n",
       "      <td>2</td>\n",
       "      <td>European Union</td>\n",
       "      <td>1.6%</td>\n",
       "      <td>25.1%</td>\n",
       "      <td>70.9%</td>\n",
       "    </tr>\n",
       "    <tr>\n",
       "      <td>3</td>\n",
       "      <td>United States</td>\n",
       "      <td>0.9%</td>\n",
       "      <td>19.1%</td>\n",
       "      <td>80.0%</td>\n",
       "    </tr>\n",
       "    <tr>\n",
       "      <td>4</td>\n",
       "      <td>India</td>\n",
       "      <td>15.4%</td>\n",
       "      <td>23.0%</td>\n",
       "      <td>61.5%</td>\n",
       "    </tr>\n",
       "  </tbody>\n",
       "</table>\n",
       "</div>"
      ],
      "text/plain": [
       "        countries agricultural industrial service\n",
       "0           World         6.4%      30.0%   63.0%\n",
       "1           China         7.9%      40.5%   51.6%\n",
       "2  European Union         1.6%      25.1%   70.9%\n",
       "3   United States         0.9%      19.1%   80.0%\n",
       "4           India        15.4%      23.0%   61.5%"
      ]
     },
     "execution_count": 11,
     "metadata": {},
     "output_type": "execute_result"
    }
   ],
   "source": [
    "df.head()"
   ]
  },
  {
   "cell_type": "code",
   "execution_count": 12,
   "metadata": {},
   "outputs": [],
   "source": [
    "df.to_csv('economical_sectors.csv')"
   ]
  },
  {
   "cell_type": "code",
   "execution_count": null,
   "metadata": {},
   "outputs": [],
   "source": []
  }
 ],
 "metadata": {
  "kernelspec": {
   "display_name": "Python 3",
   "language": "python",
   "name": "python3"
  },
  "language_info": {
   "codemirror_mode": {
    "name": "ipython",
    "version": 3
   },
   "file_extension": ".py",
   "mimetype": "text/x-python",
   "name": "python",
   "nbconvert_exporter": "python",
   "pygments_lexer": "ipython3",
   "version": "3.7.4"
  }
 },
 "nbformat": 4,
 "nbformat_minor": 2
}
