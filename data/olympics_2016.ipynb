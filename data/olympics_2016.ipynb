{
 "cells": [
  {
   "cell_type": "code",
   "execution_count": 1,
   "metadata": {},
   "outputs": [],
   "source": [
    "import requests\n",
    "from bs4 import BeautifulSoup\n",
    "import pandas as pd"
   ]
  },
  {
   "cell_type": "code",
   "execution_count": 59,
   "metadata": {},
   "outputs": [],
   "source": [
    "url = \"https://en.wikipedia.org/wiki/2016_Summer_Olympics_medal_table\""
   ]
  },
  {
   "cell_type": "code",
   "execution_count": 60,
   "metadata": {},
   "outputs": [],
   "source": [
    "website_url = requests.get(url).text\n",
    "soup = BeautifulSoup(website_url,'lxml')\n",
    "table = soup.find(\"table\",{\"class\":\"wikitable sortable plainrowheaders jquery-tablesorter\"})\n",
    "# tabletype is different than usual wikitable sortable\n",
    "body = table.find(\"tbody\")\n",
    "rows = body.findChildren(['th', 'tr'])"
   ]
  },
  {
   "cell_type": "code",
   "execution_count": 76,
   "metadata": {},
   "outputs": [],
   "source": [
    "countries = []\n",
    "bronze_list = []\n",
    "silver_list = []\n",
    "gold_list = []"
   ]
  },
  {
   "cell_type": "code",
   "execution_count": 77,
   "metadata": {},
   "outputs": [],
   "source": [
    "for row in rows:\n",
    "    cells = row.findChildren(['td', 'th'])\n",
    "    if len(cells) > 1:\n",
    "        if len(cells[1].findAll('a'))> 0:\n",
    "            country = cells[1].findAll('a')[0].text\n",
    "#             if country == '':\n",
    "#                 country = cells[1].findAll('a')[1].text\n",
    "            countries.append(country)\n",
    "        \n",
    "            gold = cells[2].text.split('\\n')[0]\n",
    "            gold_list.append(gold)\n",
    "            \n",
    "            silver = cells[3].text.split('\\n')[0]\n",
    "            silver_list.append(silver)\n",
    "            \n",
    "            bronze = cells[4].text.split('\\n')[0]\n",
    "            bronze_list.append(bronze)\n",
    "        \n",
    "        elif len(cells[0].findAll('a'))> 0:\n",
    "            country = cells[0].findAll('a')[0].text\n",
    "#             if country == '':\n",
    "#                 country = cells[1].findAll('a')[1].text\n",
    "            countries.append(country)\n",
    "\n",
    "            gold = cells[1].text.split('\\n')[0]\n",
    "            gold_list.append(gold)\n",
    "            \n",
    "            silver = cells[2].text.split('\\n')[0]\n",
    "            silver_list.append(silver)\n",
    "            \n",
    "            bronze = cells[3].text.split('\\n')[0]\n",
    "            bronze_list.append(bronze)\n",
    "        "
   ]
  },
  {
   "cell_type": "code",
   "execution_count": 78,
   "metadata": {},
   "outputs": [
    {
     "data": {
      "text/plain": [
       "86"
      ]
     },
     "execution_count": 78,
     "metadata": {},
     "output_type": "execute_result"
    }
   ],
   "source": [
    "len(countries)"
   ]
  },
  {
   "cell_type": "code",
   "execution_count": 79,
   "metadata": {},
   "outputs": [],
   "source": [
    "df = pd.DataFrame()\n",
    "df['countries'] = countries\n",
    "df['gold_medals_2016'] = gold_list\n",
    "df['silver_medals_2016'] = silver_list\n",
    "df['bronze_medals_2016'] = bronze_list"
   ]
  },
  {
   "cell_type": "code",
   "execution_count": 80,
   "metadata": {},
   "outputs": [
    {
     "data": {
      "text/html": [
       "<div>\n",
       "<style scoped>\n",
       "    .dataframe tbody tr th:only-of-type {\n",
       "        vertical-align: middle;\n",
       "    }\n",
       "\n",
       "    .dataframe tbody tr th {\n",
       "        vertical-align: top;\n",
       "    }\n",
       "\n",
       "    .dataframe thead th {\n",
       "        text-align: right;\n",
       "    }\n",
       "</style>\n",
       "<table border=\"1\" class=\"dataframe\">\n",
       "  <thead>\n",
       "    <tr style=\"text-align: right;\">\n",
       "      <th></th>\n",
       "      <th>countries</th>\n",
       "      <th>gold_medals_2016</th>\n",
       "      <th>silver_medals_2016</th>\n",
       "      <th>bronze_medals_2016</th>\n",
       "    </tr>\n",
       "  </thead>\n",
       "  <tbody>\n",
       "    <tr>\n",
       "      <td>0</td>\n",
       "      <td>United States</td>\n",
       "      <td>46</td>\n",
       "      <td>37</td>\n",
       "      <td>38</td>\n",
       "    </tr>\n",
       "    <tr>\n",
       "      <td>1</td>\n",
       "      <td>Great Britain</td>\n",
       "      <td>27</td>\n",
       "      <td>23</td>\n",
       "      <td>17</td>\n",
       "    </tr>\n",
       "    <tr>\n",
       "      <td>2</td>\n",
       "      <td>China</td>\n",
       "      <td>26</td>\n",
       "      <td>18</td>\n",
       "      <td>26</td>\n",
       "    </tr>\n",
       "    <tr>\n",
       "      <td>3</td>\n",
       "      <td>Russia</td>\n",
       "      <td>19</td>\n",
       "      <td>17</td>\n",
       "      <td>20</td>\n",
       "    </tr>\n",
       "    <tr>\n",
       "      <td>4</td>\n",
       "      <td>Germany</td>\n",
       "      <td>17</td>\n",
       "      <td>10</td>\n",
       "      <td>15</td>\n",
       "    </tr>\n",
       "  </tbody>\n",
       "</table>\n",
       "</div>"
      ],
      "text/plain": [
       "       countries gold_medals_2016 silver_medals_2016 bronze_medals_2016\n",
       "0  United States               46                 37                 38\n",
       "1  Great Britain               27                 23                 17\n",
       "2          China               26                 18                 26\n",
       "3         Russia               19                 17                 20\n",
       "4        Germany               17                 10                 15"
      ]
     },
     "execution_count": 80,
     "metadata": {},
     "output_type": "execute_result"
    }
   ],
   "source": [
    "df.head()"
   ]
  },
  {
   "cell_type": "code",
   "execution_count": 81,
   "metadata": {},
   "outputs": [
    {
     "data": {
      "text/html": [
       "<div>\n",
       "<style scoped>\n",
       "    .dataframe tbody tr th:only-of-type {\n",
       "        vertical-align: middle;\n",
       "    }\n",
       "\n",
       "    .dataframe tbody tr th {\n",
       "        vertical-align: top;\n",
       "    }\n",
       "\n",
       "    .dataframe thead th {\n",
       "        text-align: right;\n",
       "    }\n",
       "</style>\n",
       "<table border=\"1\" class=\"dataframe\">\n",
       "  <thead>\n",
       "    <tr style=\"text-align: right;\">\n",
       "      <th></th>\n",
       "      <th>countries</th>\n",
       "      <th>gold_medals_2016</th>\n",
       "      <th>silver_medals_2016</th>\n",
       "      <th>bronze_medals_2016</th>\n",
       "    </tr>\n",
       "  </thead>\n",
       "  <tbody>\n",
       "    <tr>\n",
       "      <td>81</td>\n",
       "      <td>Morocco</td>\n",
       "      <td>0</td>\n",
       "      <td>0</td>\n",
       "      <td>1</td>\n",
       "    </tr>\n",
       "    <tr>\n",
       "      <td>82</td>\n",
       "      <td>Nigeria</td>\n",
       "      <td>0</td>\n",
       "      <td>0</td>\n",
       "      <td>1</td>\n",
       "    </tr>\n",
       "    <tr>\n",
       "      <td>83</td>\n",
       "      <td>Portugal</td>\n",
       "      <td>0</td>\n",
       "      <td>0</td>\n",
       "      <td>1</td>\n",
       "    </tr>\n",
       "    <tr>\n",
       "      <td>84</td>\n",
       "      <td>Trinidad and Tobago</td>\n",
       "      <td>0</td>\n",
       "      <td>0</td>\n",
       "      <td>1</td>\n",
       "    </tr>\n",
       "    <tr>\n",
       "      <td>85</td>\n",
       "      <td>United Arab Emirates</td>\n",
       "      <td>0</td>\n",
       "      <td>0</td>\n",
       "      <td>1</td>\n",
       "    </tr>\n",
       "  </tbody>\n",
       "</table>\n",
       "</div>"
      ],
      "text/plain": [
       "               countries gold_medals_2016 silver_medals_2016  \\\n",
       "81               Morocco                0                  0   \n",
       "82               Nigeria                0                  0   \n",
       "83              Portugal                0                  0   \n",
       "84   Trinidad and Tobago                0                  0   \n",
       "85  United Arab Emirates                0                  0   \n",
       "\n",
       "   bronze_medals_2016  \n",
       "81                  1  \n",
       "82                  1  \n",
       "83                  1  \n",
       "84                  1  \n",
       "85                  1  "
      ]
     },
     "execution_count": 81,
     "metadata": {},
     "output_type": "execute_result"
    }
   ],
   "source": [
    "df.tail()"
   ]
  },
  {
   "cell_type": "code",
   "execution_count": 82,
   "metadata": {},
   "outputs": [],
   "source": [
    "df.to_csv('olympic_medals_2016.csv')"
   ]
  },
  {
   "cell_type": "code",
   "execution_count": null,
   "metadata": {},
   "outputs": [],
   "source": []
  }
 ],
 "metadata": {
  "kernelspec": {
   "display_name": "Python 3",
   "language": "python",
   "name": "python3"
  },
  "language_info": {
   "codemirror_mode": {
    "name": "ipython",
    "version": 3
   },
   "file_extension": ".py",
   "mimetype": "text/x-python",
   "name": "python",
   "nbconvert_exporter": "python",
   "pygments_lexer": "ipython3",
   "version": "3.7.4"
  }
 },
 "nbformat": 4,
 "nbformat_minor": 2
}
